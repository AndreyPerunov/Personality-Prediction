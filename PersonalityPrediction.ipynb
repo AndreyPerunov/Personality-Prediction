{
  "nbformat": 4,
  "nbformat_minor": 0,
  "metadata": {
    "colab": {
      "provenance": [],
      "toc_visible": true,
      "authorship_tag": "ABX9TyP+PlpXNTBuKPVYSK2rAOiU",
      "include_colab_link": true
    },
    "kernelspec": {
      "name": "python3",
      "display_name": "Python 3"
    },
    "language_info": {
      "name": "python"
    }
  },
  "cells": [
    {
      "cell_type": "markdown",
      "metadata": {
        "id": "view-in-github",
        "colab_type": "text"
      },
      "source": [
        "<a href=\"https://colab.research.google.com/github/AndreyPerunov/Personality-Prediction/blob/main/PersonalityPrediction.ipynb\" target=\"_parent\"><img src=\"https://colab.research.google.com/assets/colab-badge.svg\" alt=\"Open In Colab\"/></a>"
      ]
    },
    {
      "cell_type": "markdown",
      "source": [
        "# Predicting Personality"
      ],
      "metadata": {
        "id": "oeQw-_qMbU8v"
      }
    },
    {
      "cell_type": "markdown",
      "source": [
        "## Imports"
      ],
      "metadata": {
        "id": "6sEvZ-v-bfsa"
      }
    },
    {
      "cell_type": "code",
      "execution_count": 104,
      "metadata": {
        "id": "OEz9icdKbGyS"
      },
      "outputs": [],
      "source": [
        "import kagglehub\n",
        "import pandas as pd\n",
        "import numpy as np\n",
        "import matplotlib.pyplot as plt\n",
        "from matplotlib.colors import ListedColormap\n",
        "from sklearn.preprocessing import MinMaxScaler, StandardScaler"
      ]
    },
    {
      "cell_type": "markdown",
      "source": [
        "### Helper functions"
      ],
      "metadata": {
        "id": "vfur09-ViicC"
      }
    },
    {
      "cell_type": "code",
      "source": [],
      "metadata": {
        "id": "uxTG63OYilIR"
      },
      "execution_count": null,
      "outputs": []
    },
    {
      "cell_type": "markdown",
      "source": [
        "## Portfolio item 1: Exploratory analysis and data preprocessing"
      ],
      "metadata": {
        "id": "gAQAZRwlbTas"
      }
    },
    {
      "cell_type": "markdown",
      "source": [
        "Task:\n",
        "\n",
        "> Choose a dataset for classification problem that is complex enough to illustrate exploratory analysis and data preprocessing techniques. First, perform an overview of the dataset (exploratory analysis) then do the preprocessing step to get the data ready for ML models training."
      ],
      "metadata": {
        "id": "9vrwJqmfs2Cv"
      }
    },
    {
      "cell_type": "markdown",
      "source": [
        "### Fetching the Dataset"
      ],
      "metadata": {
        "id": "TXe1hWAJdo0K"
      }
    },
    {
      "cell_type": "code",
      "source": [
        "path = kagglehub.dataset_download(\"rakeshkapilavai/extrovert-vs-introvert-behavior-data\")"
      ],
      "metadata": {
        "id": "Qs0ib3gGdqoH"
      },
      "execution_count": 15,
      "outputs": []
    },
    {
      "cell_type": "markdown",
      "source": [
        "### Loading the dataset"
      ],
      "metadata": {
        "id": "5oFF2DffeKho"
      }
    },
    {
      "cell_type": "code",
      "source": [
        "df = pd.read_csv(path + '/personality_dataset.csv')\n",
        "print(df.head())\n",
        "print(df.shape)"
      ],
      "metadata": {
        "colab": {
          "base_uri": "https://localhost:8080/"
        },
        "id": "HexhYIEnePCW",
        "outputId": "bf057e5b-8ecd-4e1a-b7a1-12268bb97bd7"
      },
      "execution_count": 16,
      "outputs": [
        {
          "output_type": "stream",
          "name": "stdout",
          "text": [
            "   Time_spent_Alone Stage_fear  Social_event_attendance  Going_outside  \\\n",
            "0               4.0         No                      4.0            6.0   \n",
            "1               9.0        Yes                      0.0            0.0   \n",
            "2               9.0        Yes                      1.0            2.0   \n",
            "3               0.0         No                      6.0            7.0   \n",
            "4               3.0         No                      9.0            4.0   \n",
            "\n",
            "  Drained_after_socializing  Friends_circle_size  Post_frequency Personality  \n",
            "0                        No                 13.0             5.0   Extrovert  \n",
            "1                       Yes                  0.0             3.0   Introvert  \n",
            "2                       Yes                  5.0             2.0   Introvert  \n",
            "3                        No                 14.0             8.0   Extrovert  \n",
            "4                        No                  8.0             5.0   Extrovert  \n",
            "(2900, 8)\n"
          ]
        }
      ]
    },
    {
      "cell_type": "markdown",
      "source": [
        "### Checking for Missing Values"
      ],
      "metadata": {
        "id": "pqEXksLfezo8"
      }
    },
    {
      "cell_type": "code",
      "source": [
        "print(df.isnull().sum())"
      ],
      "metadata": {
        "colab": {
          "base_uri": "https://localhost:8080/"
        },
        "id": "7-JDO4cRe37s",
        "outputId": "8e2ce9cc-b9d2-4cc4-c435-9ce8690710a7"
      },
      "execution_count": 17,
      "outputs": [
        {
          "output_type": "stream",
          "name": "stdout",
          "text": [
            "Time_spent_Alone             63\n",
            "Stage_fear                   73\n",
            "Social_event_attendance      62\n",
            "Going_outside                66\n",
            "Drained_after_socializing    52\n",
            "Friends_circle_size          77\n",
            "Post_frequency               65\n",
            "Personality                   0\n",
            "dtype: int64\n"
          ]
        }
      ]
    },
    {
      "cell_type": "markdown",
      "source": [
        "### Analysis\n",
        "\n",
        "About the dataset (quote from kaggle)\n",
        "\n",
        "> This dataset contains 2,900 entries with 8 features related to social behavior and personality traits, designed to explore and classify individuals as Extroverts or Introverts.\n",
        "\n",
        " Dataset has **missing values** - *filling in missing values* is required\n",
        "\n",
        " Dataset has this types of features:\n",
        "\n",
        "  - `Time_spent_Alone` - Numeric feature\n",
        "  - `Stage_fear` - Binary Feature\n",
        "  - `Social_event_attendance` - Ordinal feature (scale 0-10)\n",
        "  - `Going_outside` - Ordinal feature (scale 0-10)\n",
        "  - `Drained_after_socializing` - Binary Feature\n",
        "  - `Friends_circle_size` - Numeric feature\n",
        "  - `Post_frequency` - Numeric feature\n",
        "  - `Personality` - Binary Feature (Target Feature)"
      ],
      "metadata": {
        "id": "nUZ9EPpDowMC"
      }
    },
    {
      "cell_type": "markdown",
      "source": [
        "### Filling in Missing Values"
      ],
      "metadata": {
        "id": "6gwVa7sRfOnI"
      }
    },
    {
      "cell_type": "code",
      "source": [
        "median_time_spent_alone = df['Time_spent_Alone'].median()\n",
        "df['Time_spent_Alone'] = df['Time_spent_Alone'].fillna(median_time_spent_alone)\n",
        "\n",
        "most_frequent_stage_fear = df['Stage_fear'].mode()[0]\n",
        "df['Stage_fear'] = df['Stage_fear'].fillna(most_frequent_stage_fear)\n",
        "\n",
        "median_social_event_attendance = df['Social_event_attendance'].median()\n",
        "df['Social_event_attendance'] = df['Social_event_attendance'].fillna(median_social_event_attendance)\n",
        "\n",
        "median_going_outside = df['Going_outside'].median()\n",
        "df['Going_outside'] = df['Going_outside'].fillna(median_going_outside)\n",
        "\n",
        "most_frequent_drained_after_socializing = df['Drained_after_socializing'].mode()[0]\n",
        "df['Drained_after_socializing'] = df['Drained_after_socializing'].fillna(most_frequent_drained_after_socializing)\n",
        "\n",
        "median_friends_circle_size = df['Friends_circle_size'].median()\n",
        "df['Friends_circle_size'] = df['Friends_circle_size'].fillna(median_friends_circle_size)\n",
        "\n",
        "median_post_frequency = df['Post_frequency'].median()\n",
        "df['Post_frequency'] = df['Post_frequency'].fillna(median_post_frequency)\n",
        "\n",
        "print(df.isnull().sum())"
      ],
      "metadata": {
        "colab": {
          "base_uri": "https://localhost:8080/"
        },
        "id": "Ef1nMXBPfkdd",
        "outputId": "c8a71343-2245-4130-c39d-ecce0c5a6ebc"
      },
      "execution_count": 18,
      "outputs": [
        {
          "output_type": "stream",
          "name": "stdout",
          "text": [
            "Time_spent_Alone             0\n",
            "Stage_fear                   0\n",
            "Social_event_attendance      0\n",
            "Going_outside                0\n",
            "Drained_after_socializing    0\n",
            "Friends_circle_size          0\n",
            "Post_frequency               0\n",
            "Personality                  0\n",
            "dtype: int64\n"
          ]
        }
      ]
    },
    {
      "cell_type": "markdown",
      "source": [
        "### Converting Feature to Numeric Values"
      ],
      "metadata": {
        "id": "zQoZsMZsh7Zz"
      }
    },
    {
      "cell_type": "markdown",
      "source": [
        "Value of `1` will represent `'Introvert'` category, while `0` will represent `'Extrovert'`."
      ],
      "metadata": {
        "id": "69oPqeXfr5MN"
      }
    },
    {
      "cell_type": "code",
      "source": [
        "df['Stage_fear'] = df['Stage_fear'].map({'Yes': 1, 'No': 0})\n",
        "df['Drained_after_socializing'] = df['Drained_after_socializing'].map({'Yes': 1, 'No': 0})\n",
        "df['Personality'] = df['Personality'].map({'Introvert': 1, 'Extrovert': 0})\n",
        "print(df.head())"
      ],
      "metadata": {
        "colab": {
          "base_uri": "https://localhost:8080/"
        },
        "id": "8I_qAoNViH6w",
        "outputId": "af42cbf7-cf92-4509-b33a-d075995be7d0"
      },
      "execution_count": 19,
      "outputs": [
        {
          "output_type": "stream",
          "name": "stdout",
          "text": [
            "   Time_spent_Alone  Stage_fear  Social_event_attendance  Going_outside  \\\n",
            "0               4.0           0                      4.0            6.0   \n",
            "1               9.0           1                      0.0            0.0   \n",
            "2               9.0           1                      1.0            2.0   \n",
            "3               0.0           0                      6.0            7.0   \n",
            "4               3.0           0                      9.0            4.0   \n",
            "\n",
            "   Drained_after_socializing  Friends_circle_size  Post_frequency  Personality  \n",
            "0                          0                 13.0             5.0            0  \n",
            "1                          1                  0.0             3.0            1  \n",
            "2                          1                  5.0             2.0            1  \n",
            "3                          0                 14.0             8.0            0  \n",
            "4                          0                  8.0             5.0            0  \n"
          ]
        }
      ]
    },
    {
      "cell_type": "markdown",
      "source": [
        "### Scaling The Data"
      ],
      "metadata": {
        "id": "udcryuUSiIYz"
      }
    },
    {
      "cell_type": "code",
      "source": [
        "# Performing Normalization, because we know the range\n",
        "df[[\"Social_event_attendance\", \"Going_outside\"]] = MinMaxScaler().fit_transform(df[[\"Social_event_attendance\", \"Going_outside\"]])\n",
        "\n",
        "# Performing Standardization\n",
        "df[[\"Time_spent_Alone\", \"Friends_circle_size\", \"Post_frequency\"]] = StandardScaler().fit_transform(df[[\"Time_spent_Alone\", \"Friends_circle_size\", \"Post_frequency\"]])\n",
        "\n",
        "print(df.head())"
      ],
      "metadata": {
        "colab": {
          "base_uri": "https://localhost:8080/"
        },
        "id": "uH-pZOEeiOJc",
        "outputId": "975482fb-b98b-446f-bf48-2978afb65dfb"
      },
      "execution_count": 20,
      "outputs": [
        {
          "output_type": "stream",
          "name": "stdout",
          "text": [
            "   Time_spent_Alone  Stage_fear  Social_event_attendance  Going_outside  \\\n",
            "0         -0.143788           0                      0.4       0.857143   \n",
            "1          1.309119           1                      0.0       0.000000   \n",
            "2          1.309119           1                      0.1       0.285714   \n",
            "3         -1.306113           0                      0.6       1.000000   \n",
            "4         -0.434369           0                      0.9       0.571429   \n",
            "\n",
            "   Drained_after_socializing  Friends_circle_size  Post_frequency  Personality  \n",
            "0                          0             1.596787        0.500271            0  \n",
            "1                          1            -1.471766       -0.190744            1  \n",
            "2                          1            -0.291553       -0.536251            1  \n",
            "3                          0             1.832829        1.536793            0  \n",
            "4                          0             0.416574        0.500271            0  \n"
          ]
        }
      ]
    },
    {
      "cell_type": "markdown",
      "source": [
        "## Portfolio item 2: Logistic regression"
      ],
      "metadata": {
        "id": "GmqWAna-snEx"
      }
    },
    {
      "cell_type": "markdown",
      "source": [
        "Task:\n",
        "\n",
        "> Train Logistic Regression and estimate its performance. Choose hyperparameters."
      ],
      "metadata": {
        "id": "Pco4b9EystWJ"
      }
    },
    {
      "cell_type": "markdown",
      "source": [
        "### Defining Logistic Regression Class"
      ],
      "metadata": {
        "id": "NyliAfcOQTho"
      }
    },
    {
      "cell_type": "markdown",
      "source": [
        "$$\n",
        "z = b + \\sum_{j=1}^m w_j x_j \\tag{Net IПрст nput}\n",
        "$$\n",
        "\n",
        "$$\n",
        "\\sigma(z)=\\frac{1}{1+e^{-z}} \\tag{Sigmoid Function}\n",
        "$$\n",
        "\n",
        "$$\n",
        "f(x) = \\begin{cases}\n",
        "1, \\quad x \\geq 0 \\\\\n",
        "0, \\quad x < 0\n",
        "\\end{cases}\n",
        "\\tag{Unit Step Function}\n",
        "$$\n",
        "\n",
        "$$\n",
        "J(w)=\n",
        "-\\sum_{i}{\n",
        "  y^{(i)}\\ln{\\sigma^{(i)}} + (1-y^{(i)}) \\ln{\\big(1 - \\sigma(z^{(i)})\\big)}\n",
        "} \\tag{Cost Function}\n",
        "$$"
      ],
      "metadata": {
        "id": "nFZFjl9VdZF8"
      }
    },
    {
      "cell_type": "code",
      "source": [
        "class LogisticRegressionGD():\n",
        "  \"\"\"Logistic Regression Classifier using gradient descent\"\"\"\n",
        "  def __init__(self, learning_rate=0.1, max_epochs=1000, random_state=1):\n",
        "    self.weights = None\n",
        "    self.bias = None\n",
        "\n",
        "    self.learning_rate = learning_rate\n",
        "    self.max_epochs = max_epochs\n",
        "\n",
        "    self.random_state = random_state\n",
        "\n",
        "  def __net_input(self, x: np.ndarray):\n",
        "    \"\"\"Calculate net input\"\"\"\n",
        "    return x.dot(self.weights) + self.bias\n",
        "\n",
        "  def __activation_function(self, z: np.ndarray):\n",
        "    \"\"\"Compute logistic sigmoid activation\"\"\"\n",
        "    return 1. / (1. + np.exp(-np.clip(z, -250, 250)))\n",
        "\n",
        "  def predict(self, X):\n",
        "    \"\"\"Return class label after unit step\"\"\"\n",
        "\n",
        "    if self.weights is None:\n",
        "      raise Exception(\"Model has not been trained yet\")\n",
        "\n",
        "    z = self.__net_input(X)\n",
        "    return np.where(z >= 0.0, 1, 0)\n",
        "\n",
        "  def fit(self, X: np.ndarray, y: np.ndarray):\n",
        "    \"\"\"Fit training data\"\"\"\n",
        "    rgen = np.random.RandomState(self.random_state)\n",
        "\n",
        "    self.weights = rgen.normal(loc=0.0, scale=0.01, size=X.shape[1])\n",
        "    self.bias = rgen.normal(loc=0.0, scale=0.01)\n",
        "    self.cost = []\n",
        "\n",
        "    for epoch in range(1, self.max_epochs + 1):\n",
        "      net_input = self.__net_input(X)\n",
        "      output = np.clip(self.__activation_function(net_input), 1e-15, 1 - 1e-15)\n",
        "      errors = (y - output)\n",
        "\n",
        "      self.weights += self.learning_rate * X.T.dot(errors)\n",
        "      self.bias += self.learning_rate * errors.sum()\n",
        "\n",
        "      cost = (-y.dot(np.log(output)) - ((1 - y).dot(np.log(1 - output))))\n",
        "      self.cost.append(cost)\n",
        "\n",
        "    return self"
      ],
      "metadata": {
        "id": "Fr85udbt7CUU"
      },
      "execution_count": 100,
      "outputs": []
    },
    {
      "cell_type": "markdown",
      "source": [
        "### Executing with all the features"
      ],
      "metadata": {
        "id": "GxCmis2Yi5of"
      }
    },
    {
      "cell_type": "code",
      "source": [
        "observations = df.iloc[:, :-1].values\n",
        "true_target_values = df.iloc[:, -1].values\n",
        "\n",
        "\n",
        "lrgd = LogisticRegressionGD()\n",
        "results = lrgd.fit(observations, true_target_values)\n",
        "accuracy = np.mean(lrgd.predict(observations) == true_target_values)\n",
        "\n",
        "print(f\"Accuracy: {accuracy}% matches\")\n",
        "print(f\"Weights: {results.weights}\")\n",
        "print(f\"Bias: {results.bias}\")"
      ],
      "metadata": {
        "colab": {
          "base_uri": "https://localhost:8080/"
        },
        "id": "QMuS2OtT8xHe",
        "outputId": "7880c736-c356-45c5-c822-1fcc50ad0c03"
      },
      "execution_count": 121,
      "outputs": [
        {
          "output_type": "stream",
          "name": "stdout",
          "text": [
            "Accuracy: 0.9244827586206896% matches\n",
            "Weights: [ 53.80510663 130.80378999  25.11393121  39.81371554 124.28029353\n",
            " -35.24515634 -54.13040806]\n",
            "Bias: -14.912967634522296\n"
          ]
        }
      ]
    }
  ]
}